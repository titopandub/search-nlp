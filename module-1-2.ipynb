{
 "cells": [
  {
   "cell_type": "code",
   "execution_count": 54,
   "metadata": {
    "collapsed": true,
    "pycharm": {
     "name": "#%%\n"
    }
   },
   "outputs": [],
   "source": [
    "import spacy\n",
    "import json\n",
    "import re\n",
    "from itertools import chain\n",
    "from collections import Counter\n",
    "\n",
    "\n",
    "nlp = spacy.load(\"en_core_web_sm\")"
   ]
  },
  {
   "cell_type": "code",
   "execution_count": 55,
   "outputs": [
    {
     "data": {
      "text/plain": "{'title': 'Pandemic',\n 'text': 'A pandemic (from Greek πᾶν, pan, \"all\" and δῆμος, demos, \"people\") is an epidemic of an infectious disease that has spread across a large region, for instance multiple continents or worldwide, affecting a substantial number of people. A widespread endemic disease with a stable number of infected people is not a pandemic. Widespread endemic diseases with a stable number of infected people such as recurrences of seasonal influenza are generally excluded as they occur simultaneously in large regions of the globe rather than being spread worldwide.\\nThroughout human history, there have been a number of pandemics of diseases such as smallpox and tuberculosis. The most fatal pandemic in recorded history was the Black Death (also known as The Plague), which killed an estimated 75–200 million people in the 14th century. The term was not used yet but was for later pandemics including the 1918 influenza pandemic (Spanish flu). Current pandemics include COVID-19 (SARS-CoV-2) and HIV/AIDS.',\n 'url': 'https://en.wikipedia.org/wiki/Pandemic',\n 'tokenized_text': ['pandemic',\n  'greek',\n  'πᾶν',\n  'pan',\n  'δῆμος',\n  'demos',\n  'people',\n  'epidemic',\n  'infectious',\n  'disease',\n  'spread',\n  'large',\n  'region',\n  'instance',\n  'multiple',\n  'continent',\n  'worldwide',\n  'affect',\n  'substantial',\n  'number',\n  'people',\n  'widespread',\n  'endemic',\n  'disease',\n  'stable',\n  'number',\n  'infected',\n  'people',\n  'pandemic',\n  'widespread',\n  'endemic',\n  'disease',\n  'stable',\n  'number',\n  'infected',\n  'people',\n  'recurrence',\n  'seasonal',\n  'influenza',\n  'generally',\n  'exclude',\n  'occur',\n  'simultaneously',\n  'large',\n  'region',\n  'globe',\n  'spread',\n  'worldwide.throughout',\n  'human',\n  'history',\n  'number',\n  'pandemic',\n  'disease',\n  'smallpox',\n  'tuberculosis',\n  'fatal',\n  'pandemic',\n  'recorded',\n  'history',\n  'black',\n  'death',\n  'know',\n  'plague',\n  'kill',\n  'estimate',\n  '75–200',\n  'million',\n  'people',\n  '14th',\n  'century',\n  'term',\n  'later',\n  'pandemic',\n  'include',\n  '1918',\n  'influenza',\n  'pandemic',\n  'spanish',\n  'flu',\n  'current',\n  'pandemic',\n  'include',\n  'covid-19',\n  'sars',\n  'cov-2',\n  'hiv',\n  'aids']}"
     },
     "execution_count": 55,
     "metadata": {},
     "output_type": "execute_result"
    }
   ],
   "source": [
    "f = open(\"data/processed.json\")\n",
    "data = json.load(f)\n",
    "\n",
    "data[0]"
   ],
   "metadata": {
    "collapsed": false,
    "pycharm": {
     "name": "#%%\n"
    }
   }
  },
  {
   "cell_type": "code",
   "execution_count": 56,
   "outputs": [],
   "source": [
    "\n",
    "tokens = list(chain(*[i[\"tokenized_text\"] for i in data]))"
   ],
   "metadata": {
    "collapsed": false,
    "pycharm": {
     "name": "#%%\n"
    }
   }
  },
  {
   "cell_type": "code",
   "execution_count": 56,
   "outputs": [],
   "source": [],
   "metadata": {
    "collapsed": false,
    "pycharm": {
     "name": "#%%\n"
    }
   }
  },
  {
   "cell_type": "code",
   "execution_count": 57,
   "outputs": [],
   "source": [
    "def compute_tfids(document, corpus_vocabulary, documents):\n",
    "  tf_idf_vector = []\n",
    "  for token in sorted(corpus_vocabulary.keys()):\n",
    "    tf = Counter(document[\"tokenized_text\"])[token] / Counter(corpus_vocabulary)[token]\n",
    "    idf = len(documents) / Counter(list(chain(*[set(document[\"tokenized_text\"]) for document in documents])))[token]\n",
    "    tf_idf = tf * idf\n",
    "    tf_idf_vector.append(tf_idf)\n",
    "\n",
    "  return tf_idf_vector"
   ],
   "metadata": {
    "collapsed": false,
    "pycharm": {
     "name": "#%%\n"
    }
   }
  },
  {
   "cell_type": "code",
   "execution_count": 58,
   "outputs": [],
   "source": [
    "corpus = Counter(tokens)"
   ],
   "metadata": {
    "collapsed": false,
    "pycharm": {
     "name": "#%%\n"
    }
   }
  },
  {
   "cell_type": "code",
   "execution_count": 59,
   "outputs": [],
   "source": [
    "tf_idf_documents = [dict(document, **{'tf_idfs': compute_tfids(document, corpus, data)}) for document in data]"
   ],
   "metadata": {
    "collapsed": false,
    "pycharm": {
     "name": "#%%\n"
    }
   }
  },
  {
   "cell_type": "code",
   "execution_count": 67,
   "outputs": [
    {
     "data": {
      "text/plain": "[0.0,\n 0.0,\n 0.0,\n 0.0,\n 0.0,\n 0.0,\n 0.0,\n 0.0,\n 0.0,\n 0.0,\n 0.0,\n 0.0,\n 0.0,\n 0.0,\n 0.0,\n 0.0,\n 6.5,\n 0.0,\n 0.0,\n 0.0,\n 0.0,\n 0.0,\n 0.0,\n 0.0,\n 0.0,\n 0.0,\n 0.0,\n 0.0,\n 0.0,\n 0.0,\n 0.0,\n 0.0,\n 0.0,\n 0.0,\n 0.0,\n 0.0,\n 0.0,\n 0.0,\n 0.0,\n 0.0,\n 0.0,\n 0.0,\n 0.0,\n 0.0,\n 0.0,\n 0.0,\n 0.0,\n 0.0,\n 0.0,\n 0.0,\n 0.0,\n 0.0,\n 0.0,\n 0.0,\n 0.0,\n 0.0,\n 0.0,\n 26.0,\n 6.5,\n 0.0,\n 0.0,\n 0.0,\n 0.0,\n 0.0,\n 0.0,\n 0.0,\n 0.0,\n 0.0,\n 0.0,\n 0.0,\n 0.0,\n 26.0,\n 0.0,\n 0.0,\n 0.0,\n 0.0,\n 0.0,\n 0.0,\n 0.0,\n 0.0,\n 0.0,\n 0.0,\n 0.0,\n 0.0,\n 0.0,\n 3.466666666666667,\n 0.0,\n 0.0,\n 0.0,\n 26.0,\n 0.0,\n 0.0,\n 0.0,\n 0.0,\n 0.0,\n 0.0,\n 0.0,\n 0.0,\n 0.0,\n 0.0,\n 0.0,\n 26.0,\n 6.5,\n 0.0,\n 0.0,\n 0.0,\n 0.0,\n 0.0,\n 0.0,\n 0.0,\n 0.0,\n 0.0,\n 0.0,\n 0.0,\n 0.0,\n 0.0,\n 0.0,\n 0.0,\n 0.0,\n 0.0,\n 0.0,\n 0.0,\n 0.0,\n 0.0,\n 0.0,\n 6.5,\n 0.0,\n 0.0,\n 0.0,\n 0.0,\n 0.0,\n 0.0,\n 0.0,\n 0.0,\n 0.0,\n 0.0,\n 0.0,\n 0.0,\n 0.0,\n 0.0,\n 0.0,\n 0.0,\n 0.0,\n 0.0,\n 8.666666666666666,\n 0.0,\n 0.0,\n 0.0,\n 0.0,\n 26.0,\n 0.0,\n 0.0,\n 0.0,\n 0.0,\n 0.0,\n 0.0,\n 0.0,\n 0.0,\n 0.0,\n 0.0,\n 0.0,\n 0.0,\n 0.0,\n 2.1666666666666665,\n 0.0,\n 0.0,\n 0.0,\n 0.0,\n 0.0,\n 0.0,\n 0.0,\n 1.5294117647058822,\n 0.0,\n 0.0,\n 0.0,\n 0.0,\n 0.0,\n 0.0,\n 0.0,\n 0.0,\n 0.0,\n 0.0,\n 0.0,\n 0.0,\n 26.0,\n 0.0,\n 0.0,\n 0.0,\n 0.0,\n 0.0,\n 0.0,\n 0.0,\n 26.0,\n 0.0,\n 0.0,\n 0.0,\n 0.0,\n 0.0,\n 0.0,\n 0.0,\n 0.0,\n 0.0,\n 0.0,\n 0.0,\n 0.28571428571428575,\n 0.0,\n 0.0,\n 0.0,\n 0.0,\n 0.0,\n 0.0,\n 0.0,\n 0.0,\n 0.0,\n 0.0,\n 0.0,\n 6.5,\n 0.0,\n 0.0,\n 26.0,\n 26.0,\n 0.0,\n 0.0,\n 0.0,\n 0.0,\n 0.0,\n 0.0,\n 0.0,\n 0.0,\n 26.0,\n 0.0,\n 0.0,\n 0.0,\n 0.0,\n 26.0,\n 0.0,\n 0.0,\n 0.0,\n 0.0,\n 0.0,\n 0.0,\n 0.0,\n 0.0,\n 0.0,\n 0.0,\n 0.0,\n 0.0,\n 0.0,\n 0.0,\n 26.0,\n 0.0,\n 0.0,\n 0.0,\n 0.0,\n 0.0,\n 0.0,\n 0.0,\n 0.0,\n 0.0,\n 0.0,\n 0.0,\n 0.0,\n 0.0,\n 0.0,\n 0.7428571428571429,\n 0.0,\n 0.0,\n 0.0,\n 0.0,\n 6.5,\n 0.0,\n 0.0,\n 0.0,\n 0.0,\n 0.0,\n 0.0,\n 0.0,\n 26.0,\n 0.0,\n 0.0,\n 0.0,\n 26.0,\n 0.0,\n 0.0,\n 0.0,\n 0.0,\n 0.0,\n 0.0,\n 0.0,\n 0.0,\n 0.0,\n 0.0,\n 0.0,\n 0.0,\n 0.0,\n 0.0,\n 0.0,\n 0.0,\n 0.0,\n 0.0,\n 0.0,\n 0.0,\n 0.0,\n 0.0,\n 0.0,\n 0.0,\n 0.0,\n 0.0,\n 0.0,\n 0.0,\n 26.0,\n 0.0,\n 26.0,\n 0.2826086956521739,\n 0.0,\n 2.1666666666666665,\n 0.0,\n 0.0,\n 0.0,\n 0.0,\n 0.9285714285714285,\n 2.6,\n 1.04,\n 0.0,\n 0.0,\n 0.0,\n 0.0,\n 0.0,\n 0.0,\n 0.0,\n 0.0,\n 0.0,\n 0.0,\n 6.5,\n 0.0,\n 0.0,\n 0.0,\n 0.0,\n 0.0,\n 0.0,\n 0.0,\n 0.0,\n 0.0,\n 0.0,\n 0.0,\n 0.0,\n 0.0,\n 26.0,\n 0.0,\n 0.0,\n 0.0,\n 0.0,\n 0.0,\n 0.0,\n 0.0,\n 0.0,\n 0.0,\n 0.0,\n 0.0,\n 0.0,\n 0.0,\n 0.0,\n 0.0,\n 0.0,\n 0.0,\n 0.0,\n 0.0,\n 0.0,\n 0.0,\n 0.0,\n 0.0,\n 0.0,\n 0.8666666666666667,\n 0.0,\n 0.0,\n 0.0,\n 0.0,\n 0.0,\n 0.0,\n 0.0,\n 0.0,\n 0.0,\n 0.0,\n 0.0,\n 6.5,\n 6.5,\n 0.0,\n 0.0,\n 0.0,\n 0.0,\n 0.0,\n 0.0,\n 0.0,\n 0.0,\n 0.0,\n 0.8666666666666667,\n 0.0,\n 0.0,\n 0.0,\n 0.0,\n 0.8666666666666667,\n 0.0,\n 0.0,\n 0.0,\n 0.0,\n 0.0,\n 6.5,\n 0.0,\n 0.0,\n 0.0,\n 0.0,\n 0.0,\n 0.0,\n 0.0,\n 0.0,\n 0.619047619047619,\n 26.0,\n 0.0,\n 0.0,\n 0.0,\n 0.0,\n 0.0,\n 0.0,\n 0.0,\n 0.0,\n 0.0,\n 0.0,\n 0.0,\n 0.0,\n 26.0,\n 0.0,\n 0.0,\n 0.0,\n 0.0,\n 0.0,\n 0.0,\n 0.0,\n 0.0,\n 0.0,\n 0.0,\n 0.0,\n 0.0,\n 0.0,\n 0.0,\n 0.0,\n 26.0,\n 0.0,\n 0.0,\n 0.0,\n 0.0,\n 0.0,\n 0.0,\n 0.0,\n 0.0,\n 0.0,\n 0.0,\n 0.0,\n 0.0,\n 0.22510822510822512,\n 26.0,\n 0.0,\n 0.0,\n 0.0,\n 0.0,\n 0.0,\n 26.0,\n 0.0,\n 0.0,\n 0.0,\n 26.0,\n 0.0,\n 0.0,\n 0.0,\n 0.0,\n 0.0,\n 0.0,\n 0.0,\n 0.0,\n 0.0,\n 0.0,\n 0.0,\n 0.0,\n 0.0,\n 2.8888888888888884,\n 0.0,\n 0.0,\n 0.0,\n 6.5,\n 0.0,\n 0.0,\n 0.0,\n 0.0,\n 0.0,\n 0.0,\n 0.0,\n 0.0,\n 0.0,\n 0.0,\n 0.0,\n 0.0,\n 0.0,\n 0.0,\n 0.0,\n 26.0,\n 0.0,\n 0.2916666666666667,\n 0.0,\n 0.0,\n 0.0,\n 0.0,\n 0.0,\n 0.0,\n 0.0,\n 0.0,\n 0.0,\n 0.0,\n 0.0,\n 0.0,\n 0.0,\n 0.0,\n 0.0,\n 0.0,\n 0.0,\n 0.0,\n 0.0,\n 0.0,\n 0.0,\n 0.0,\n 0.0,\n 0.0,\n 0.0,\n 0.0,\n 0.0,\n 0.0,\n 1.625,\n 0.0,\n 0.0,\n 2.1666666666666665,\n 0.0,\n 6.5,\n 0.0,\n 0.0,\n 0.0,\n 0.0,\n 0.0,\n 0.0,\n 0.0,\n 0.0,\n 0.0,\n 0.0,\n 0.0,\n 0.0,\n 0.0,\n 0.0,\n 0.0,\n 0.0,\n 0.0,\n 0.0,\n 0.0,\n 0.0,\n 0.0,\n 0.0,\n 0.0,\n 0.0,\n 0.0,\n 0.0,\n 0.0,\n 0.0,\n 0.0,\n 0.0,\n 0.0,\n 0.0,\n 0.0,\n 0.0,\n 0.0,\n 0.3851851851851852,\n 0.0,\n 0.0,\n 0.0,\n 0.0,\n 0.0,\n 0.0,\n 0.0,\n 0.0,\n 0.0,\n 0.0,\n 0.0,\n 0.0,\n 0.0,\n 0.0,\n 0.0,\n 26.0,\n 0.0,\n 0.0,\n 0.0,\n 0.0,\n 0.0,\n 0.0,\n 26.0,\n 26.0,\n 0.0,\n 0.0,\n 0.0,\n 2.8888888888888884,\n 0.0,\n 0.0,\n 0.0,\n 0.0,\n 0.0,\n 0.0,\n 0.0,\n 0.0,\n 0.0,\n 0.0,\n 0.0,\n 0.0,\n 0.0,\n 0.0,\n 0.0,\n 0.0,\n 0.0,\n 0.0,\n 0.0,\n 0.0,\n 0.0,\n 0.0,\n 0.0,\n 0.0,\n 0.0,\n 0.0,\n 0.0,\n 0.0,\n 0.0,\n 0.0,\n 0.0,\n 0.0,\n 0.0,\n 0.0,\n 0.0,\n 0.0,\n 1.4444444444444442,\n 0.0,\n 4.333333333333333,\n 0.0,\n 0.0,\n 0.0,\n 0.0,\n 0.0,\n 0.0,\n 0.0,\n 0.0,\n 0.0,\n 0.0,\n 6.5,\n 0.0,\n 26.0,\n 0.0,\n 0.0,\n 0.0,\n 0.0,\n 0.0,\n 0.0,\n 0.0,\n 0.0,\n 0.0,\n 0.0,\n 0.0,\n 0.0,\n 0.0,\n 0.0,\n 0.0,\n 0.5416666666666666,\n 0.0,\n 0.0,\n 0.0,\n 0.0,\n 0.0,\n 0.0,\n 0.0,\n 0.0,\n 0.0,\n 0.0,\n 0.0,\n 0.0,\n 0.0,\n 1.3,\n 0.0,\n 0.0,\n 0.0,\n 0.0,\n 0.0,\n 0.0,\n 0.0,\n 0.0,\n 0.0,\n 0.0,\n 0.0,\n 0.0,\n 0.0,\n 0.0,\n 0.0,\n 0.0,\n 0.0,\n 0.0,\n 0.0,\n 0.0,\n 0.0,\n 0.0,\n 0.0,\n 0.0,\n 0.0,\n 0.0,\n 0.0,\n 0.0,\n 0.0,\n 0.0,\n 0.0,\n 0.0,\n 0.0,\n 0.0,\n 0.0,\n 0.0,\n 0.9479166666666666,\n 0.0,\n 0.0,\n 0.0,\n 0.0,\n 0.0,\n 0.0,\n 0.0,\n 0.0,\n 0.0,\n 0.0,\n 0.33766233766233766,\n 0.0,\n 0.0,\n 0.0,\n 0.0,\n 0.0,\n 26.0,\n 0.0,\n 0.0,\n 0.0,\n 0.0,\n 0.0,\n 0.0,\n 0.0,\n 2.2285714285714286,\n 0.0,\n 0.0,\n 0.0,\n 1.857142857142857,\n 0.0,\n 0.0,\n 2.4375,\n 0.0,\n 0.0,\n 0.0,\n 0.0,\n 9.75,\n 4.333333333333333,\n 0.0,\n 0.0,\n 0.0,\n 0.0,\n 0.0,\n 0.0,\n 0.0,\n 0.0,\n 0.0,\n 0.0,\n 0.2608695652173913,\n 0.0,\n 0.7222222222222221,\n 0.0,\n 0.0,\n 0.0,\n 0.0,\n 0.0,\n 0.0,\n 0.0,\n 0.0,\n 0.19548872180451127,\n 0.0,\n 0.0,\n 0.527027027027027,\n 0.0,\n 0.0,\n 0.0,\n 0.0,\n 0.0,\n 0.1,\n 0.0,\n 0.0,\n 26.0,\n 0.0,\n 0.0,\n 0.0,\n 0.0,\n 0.0,\n 0.0,\n 0.0,\n 0.0,\n 0.0,\n 0.0,\n 26.0,\n 2.8888888888888884,\n 0.0,\n 0.0,\n 0.0,\n 0.0,\n 6.5,\n 0.0,\n 0.0,\n 0.0,\n 0.0,\n 0.0,\n 0.0,\n 0.0,\n 0.0,\n 0.0,\n 0.0,\n 26.0,\n 0.0,\n 0.0,\n 0.0,\n 0.0,\n 0.0,\n 0.0,\n 0.18571428571428572,\n 0.0,\n 0.0,\n 0.0,\n 0.0,\n 0.0,\n 1.142857142857143,\n 0.0,\n 0.0,\n 26.0,\n 0.0,\n 0.0,\n 0.0,\n 0.0,\n 0.7428571428571429,\n 0.0,\n 0.0,\n 0.0,\n 1.238095238095238,\n 1.04,\n 0.0,\n 0.0,\n 0.0,\n 0.0,\n 0.0,\n 0.0,\n 0.0,\n 2.6,\n 0.0,\n 0.0,\n 0.0,\n 0.0,\n 0.0,\n 0.0,\n 0.0,\n 26.0,\n 0.0,\n 0.0,\n 0.0,\n 0.0,\n 0.0,\n 0.0,\n 0.0,\n 0.0,\n 0.0,\n 0.0,\n 0.0,\n 0.0,\n 0.0,\n 0.0,\n 0.0,\n 0.0,\n 0.0,\n 0.0,\n 0.0,\n 0.0,\n 0.0,\n 0.0,\n 0.0,\n 0.0,\n 0.0,\n 0.0,\n 0.0,\n 0.0,\n 0.0,\n 1.7333333333333334,\n 6.5,\n 0.0,\n 26.0,\n 0.0,\n 0.0,\n 0.0,\n 0.0,\n 0.0,\n 0.0,\n 0.0,\n 4.333333333333333,\n 0.0,\n 0.0,\n 0.0,\n 0.0,\n 0.0,\n 0.30000000000000004,\n 0.0,\n 0.0,\n 26.0,\n 0.0,\n 0.0,\n 0.0,\n 0.0,\n 0.0,\n 0.0,\n 0.0,\n 0.0,\n 0.0,\n 0.0,\n 0.0,\n 0.0,\n 0.0,\n 0.0,\n 0.0,\n 0.0,\n 0.0,\n 0.0,\n 0.0,\n 26.0,\n 0.0,\n 0.0,\n 0.0,\n 0.0,\n 0.0,\n 0.0,\n 0.0,\n 0.0,\n 0.0,\n 0.0,\n 2.1666666666666665,\n 0.0,\n 0.0,\n 0.0,\n 8.666666666666666,\n 0.0,\n 0.0,\n 0.0,\n 0.0,\n 0.0,\n 0.0,\n 6.5,\n 0.0,\n 26.0,\n 0.0,\n 0.0,\n 0.0,\n 0.0,\n 6.5,\n 0.0,\n 0.0,\n 0.0,\n 0.0,\n 0.0,\n 0.0,\n 0.0,\n 0.0,\n 0.0,\n 0.0,\n 0.0,\n 0.0,\n 0.0,\n 0.0,\n 0.0,\n 0.0,\n 0.0,\n 0.0,\n 0.0,\n 0.0,\n 0.0,\n 26.0,\n 0.0,\n 2.8888888888888884,\n 0.0,\n 0.0,\n 0.0,\n 0.0,\n 0.0,\n 0.0,\n 0.0,\n 0.23214285714285712,\n 0.0,\n 0.0,\n 0.0,\n 0.0,\n ...]"
     },
     "execution_count": 67,
     "metadata": {},
     "output_type": "execute_result"
    }
   ],
   "source": [
    "tf_idf_documents[10][\"tf_idfs\"]"
   ],
   "metadata": {
    "collapsed": false,
    "pycharm": {
     "name": "#%%\n"
    }
   }
  },
  {
   "cell_type": "code",
   "execution_count": 60,
   "outputs": [],
   "source": [
    "def tokenizer(string):\n",
    "  lowercased = string.lower()\n",
    "  lowercased = re.sub('(\\n|\\\\\\\\displaystyle)', '', lowercased)\n",
    "  doc = nlp(lowercased)\n",
    "  lemmas = []\n",
    "  for token in doc:\n",
    "    if not token.is_stop and not token.is_punct and not token.is_space:\n",
    "      lemmas.append(token.lemma_)\n",
    "  return lemmas"
   ],
   "metadata": {
    "collapsed": false,
    "pycharm": {
     "name": "#%%\n"
    }
   }
  },
  {
   "cell_type": "code",
   "execution_count": 61,
   "outputs": [
    {
     "data": {
      "text/plain": "0.012649148633172385"
     },
     "execution_count": 61,
     "metadata": {},
     "output_type": "execute_result"
    }
   ],
   "source": [
    "import numpy as np\n",
    "from numpy.linalg import norm\n",
    "\n",
    "query_text = \"When did the Spanish flu happen?\"\n",
    "query_text_token = tokenizer(query_text)\n",
    "query_dict = {\"tokenized_text\": query_text_token}\n",
    "tf_idf_query = compute_tfids(query_dict, corpus, data)\n",
    "tf_idf_query_vector = np.array(tf_idf_query)\n",
    "tf_idf_document_vector = np.array(tf_idf_documents[0][\"tf_idfs\"])\n",
    "cosine_similarity = np.dot(tf_idf_query_vector, tf_idf_document_vector) / (norm(tf_idf_query_vector) * norm(tf_idf_document_vector))\n",
    "cosine_similarity"
   ],
   "metadata": {
    "collapsed": false,
    "pycharm": {
     "name": "#%%\n"
    }
   }
  },
  {
   "cell_type": "code",
   "execution_count": 62,
   "outputs": [],
   "source": [
    "def cosine_similarity(query, documents):\n",
    "  query_token = tokenizer(query)\n",
    "  query_dict = {\"tokenized_text\": query_token}\n",
    "  tf_idf_query = compute_tfids(query_dict, corpus, data)\n",
    "  tf_idf_query_vector = np.array(tf_idf_query)\n",
    "  cosine_similarities = []\n",
    "  for document in documents:\n",
    "    tf_idf_document_vector = np.array(document[\"tf_idfs\"])\n",
    "    cosine_similarity = np.dot(tf_idf_query_vector, tf_idf_document_vector) / (norm(tf_idf_query_vector) * norm(tf_idf_document_vector))\n",
    "    cosine_similarities.append({'title': document[\"title\"], 'cosine_similarity': cosine_similarity})\n",
    "\n",
    "  return sorted(cosine_similarities, key=lambda i: i[\"cosine_similarity\"], reverse=True)"
   ],
   "metadata": {
    "collapsed": false,
    "pycharm": {
     "name": "#%%\n"
    }
   }
  },
  {
   "cell_type": "code",
   "execution_count": 63,
   "outputs": [
    {
     "data": {
      "text/plain": "[{'title': 'Spanish flu', 'cosine_similarity': 0.02858469708927138},\n {'title': 'Swine influenza', 'cosine_similarity': 0.012855228526745734},\n {'title': 'Pandemic', 'cosine_similarity': 0.012649148633172385},\n {'title': 'Unified Victim Identification System',\n  'cosine_similarity': 0.0004685996984836988},\n {'title': 'Epidemiology of HIV/AIDS', 'cosine_similarity': 0.0},\n {'title': 'Antonine Plague', 'cosine_similarity': 0.0},\n {'title': 'Basic reproduction number', 'cosine_similarity': 0.0},\n {'title': 'Bills of mortality', 'cosine_similarity': 0.0},\n {'title': 'Cholera', 'cosine_similarity': 0.0},\n {'title': 'COVID-19 pandemic', 'cosine_similarity': 0.0},\n {'title': 'Crimson Contagion', 'cosine_similarity': 0.0},\n {'title': 'Disease X', 'cosine_similarity': 0.0},\n {'title': 'Event 201', 'cosine_similarity': 0.0},\n {'title': 'HIV/AIDS', 'cosine_similarity': 0.0},\n {'title': 'HIV/AIDS in Yunnan', 'cosine_similarity': 0.0},\n {'title': 'Pandemic prevention', 'cosine_similarity': 0.0},\n {'title': 'Pandemic Severity Assessment Framework', 'cosine_similarity': 0.0},\n {'title': 'Pandemic severity index', 'cosine_similarity': 0.0},\n {'title': 'Plague of Cyprian', 'cosine_similarity': 0.0},\n {'title': 'PREDICT (USAID)', 'cosine_similarity': 0.0},\n {'title': '1929–1930 psittacosis pandemic', 'cosine_similarity': 0.0},\n {'title': 'Science diplomacy and pandemics', 'cosine_similarity': 0.0},\n {'title': 'Superspreader', 'cosine_similarity': 0.0},\n {'title': 'Targeted immunization strategies', 'cosine_similarity': 0.0},\n {'title': 'Viral load', 'cosine_similarity': 0.0},\n {'title': 'Virus', 'cosine_similarity': 0.0}]"
     },
     "execution_count": 63,
     "metadata": {},
     "output_type": "execute_result"
    }
   ],
   "source": [
    "cosine_similarity(query_text, tf_idf_documents)"
   ],
   "metadata": {
    "collapsed": false,
    "pycharm": {
     "name": "#%%\n"
    }
   }
  },
  {
   "cell_type": "code",
   "execution_count": 64,
   "outputs": [],
   "source": [
    "with open(\"data/vectorized.json\", \"w\") as file:\n",
    "  json.dump(tf_idf_documents, file, indent=2)"
   ],
   "metadata": {
    "collapsed": false,
    "pycharm": {
     "name": "#%%\n"
    }
   }
  },
  {
   "cell_type": "code",
   "execution_count": 65,
   "outputs": [],
   "source": [
    "with open(\"data/vocab.json\", \"w\") as file:\n",
    "  json.dump(corpus, file, indent=2)"
   ],
   "metadata": {
    "collapsed": false,
    "pycharm": {
     "name": "#%%\n"
    }
   }
  }
 ],
 "metadata": {
  "kernelspec": {
   "display_name": "Python 3",
   "language": "python",
   "name": "python3"
  },
  "language_info": {
   "codemirror_mode": {
    "name": "ipython",
    "version": 2
   },
   "file_extension": ".py",
   "mimetype": "text/x-python",
   "name": "python",
   "nbconvert_exporter": "python",
   "pygments_lexer": "ipython2",
   "version": "2.7.6"
  }
 },
 "nbformat": 4,
 "nbformat_minor": 0
}