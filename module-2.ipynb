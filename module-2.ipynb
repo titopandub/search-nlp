{
 "cells": [
  {
   "cell_type": "code",
   "execution_count": 3,
   "metadata": {
    "collapsed": true,
    "pycharm": {
     "name": "#%%\n"
    }
   },
   "outputs": [],
   "source": [
    "import operator\n",
    "\n",
    "import spacy\n",
    "import json\n",
    "import re\n",
    "from itertools import chain\n",
    "\n",
    "\n",
    "nlp = spacy.load(\"en_core_web_sm\")"
   ]
  },
  {
   "cell_type": "code",
   "execution_count": 2,
   "outputs": [
    {
     "data": {
      "text/plain": "{'title': 'Pandemic',\n 'text': 'A pandemic (from Greek πᾶν, pan, \"all\" and δῆμος, demos, \"people\") is an epidemic of an infectious disease that has spread across a large region, for instance multiple continents or worldwide, affecting a substantial number of people. A widespread endemic disease with a stable number of infected people is not a pandemic. Widespread endemic diseases with a stable number of infected people such as recurrences of seasonal influenza are generally excluded as they occur simultaneously in large regions of the globe rather than being spread worldwide.\\nThroughout human history, there have been a number of pandemics of diseases such as smallpox and tuberculosis. The most fatal pandemic in recorded history was the Black Death (also known as The Plague), which killed an estimated 75–200 million people in the 14th century. The term was not used yet but was for later pandemics including the 1918 influenza pandemic (Spanish flu). Current pandemics include COVID-19 (SARS-CoV-2) and HIV/AIDS.',\n 'url': 'https://en.wikipedia.org/wiki/Pandemic',\n 'tokenized_text': ['pandemic',\n  'greek',\n  'πᾶν',\n  'pan',\n  'δῆμος',\n  'demos',\n  'people',\n  'epidemic',\n  'infectious',\n  'disease',\n  'spread',\n  'large',\n  'region',\n  'instance',\n  'multiple',\n  'continent',\n  'worldwide',\n  'affect',\n  'substantial',\n  'number',\n  'people',\n  'widespread',\n  'endemic',\n  'disease',\n  'stable',\n  'number',\n  'infected',\n  'people',\n  'pandemic',\n  'widespread',\n  'endemic',\n  'disease',\n  'stable',\n  'number',\n  'infected',\n  'people',\n  'recurrence',\n  'seasonal',\n  'influenza',\n  'generally',\n  'exclude',\n  'occur',\n  'simultaneously',\n  'large',\n  'region',\n  'globe',\n  'spread',\n  'worldwide.throughout',\n  'human',\n  'history',\n  'number',\n  'pandemic',\n  'disease',\n  'smallpox',\n  'tuberculosis',\n  'fatal',\n  'pandemic',\n  'recorded',\n  'history',\n  'black',\n  'death',\n  'know',\n  'plague',\n  'kill',\n  'estimate',\n  '75–200',\n  'million',\n  'people',\n  '14th',\n  'century',\n  'term',\n  'later',\n  'pandemic',\n  'include',\n  '1918',\n  'influenza',\n  'pandemic',\n  'spanish',\n  'flu',\n  'current',\n  'pandemic',\n  'include',\n  'covid-19',\n  'sars',\n  'cov-2',\n  'hiv',\n  'aids']}"
     },
     "execution_count": 2,
     "metadata": {},
     "output_type": "execute_result"
    }
   ],
   "source": [
    "f = open(\"processed.json\")\n",
    "data = json.load(f)\n",
    "\n",
    "data[0]"
   ],
   "metadata": {
    "collapsed": false,
    "pycharm": {
     "name": "#%%\n"
    }
   }
  },
  {
   "cell_type": "code",
   "execution_count": 19,
   "outputs": [
    {
     "data": {
      "text/plain": "Counter({'pandemic': 57,\n         'greek': 1,\n         'πᾶν': 1,\n         'pan': 1,\n         'δῆμος': 1,\n         'demos': 1,\n         'people': 29,\n         'epidemic': 11,\n         'infectious': 8,\n         'disease': 39,\n         'spread': 17,\n         'large': 13,\n         'region': 5,\n         'instance': 1,\n         'multiple': 3,\n         'continent': 1,\n         'worldwide': 6,\n         'affect': 15,\n         'substantial': 1,\n         'number': 15,\n         'widespread': 3,\n         'endemic': 4,\n         'stable': 3,\n         'infected': 10,\n         'recurrence': 1,\n         'seasonal': 1,\n         'influenza': 26,\n         'generally': 3,\n         'exclude': 1,\n         'occur': 6,\n         'simultaneously': 1,\n         'globe': 1,\n         'worldwide.throughout': 1,\n         'human': 21,\n         'history': 4,\n         'smallpox': 3,\n         'tuberculosis': 3,\n         'fatal': 1,\n         'recorded': 1,\n         'black': 1,\n         'death': 21,\n         'know': 14,\n         'plague': 13,\n         'kill': 5,\n         'estimate': 15,\n         '75–200': 1,\n         'million': 26,\n         '14th': 1,\n         'century': 5,\n         'term': 3,\n         'later': 3,\n         'include': 23,\n         '1918': 5,\n         'spanish': 6,\n         'flu': 18,\n         'current': 2,\n         'covid-19': 7,\n         'sars': 1,\n         'cov-2': 3,\n         'hiv': 32,\n         'aids': 17,\n         'immunodeficiency': 4,\n         'virus': 55,\n         'consider': 6,\n         'author': 1,\n         'global': 13,\n         'currently': 4,\n         'use': 10,\n         'describe': 8,\n         '2018': 5,\n         'approximately': 4,\n         '37.9': 2,\n         'infect': 19,\n         'globally.there': 1,\n         '770,000': 2,\n         '2018.the': 1,\n         '2015': 3,\n         'burden': 3,\n         'study': 4,\n         'report': 14,\n         'publish': 1,\n         'lancet': 1,\n         'incidence': 5,\n         'infection': 37,\n         'peak': 1,\n         '1997': 2,\n         '3.3': 1,\n         'year': 6,\n         'fall': 2,\n         'rapidly': 2,\n         '2005': 2,\n         '2.6': 1,\n         'remain': 4,\n         '2015.sub': 1,\n         'saharan': 1,\n         'africa': 8,\n         'affected': 2,\n         '61': 1,\n         'new': 12,\n         'prevalence': 6,\n         'ratio': 7,\n         'western': 3,\n         'central': 5,\n         'europe': 3,\n         'north': 2,\n         'america': 4,\n         'low': 3,\n         'decline': 3,\n         'mortality': 8,\n         '17': 3,\n         'see': 3,\n         '0.06': 3,\n         '2000': 2,\n         '0.03': 1,\n         '2017': 12,\n         'strong': 4,\n         'steady': 1,\n         'reduction': 1,\n         'eastern': 4,\n         'southern': 2,\n         'push': 1,\n         '0.11': 1,\n         '0.04': 1,\n         'progress': 2,\n         'gradual': 1,\n         'asia': 5,\n         'pacific': 1,\n         '0.05': 2,\n         'latin': 1,\n         'caribbean': 1,\n         'middle': 1,\n         'east': 4,\n         '0.08': 1,\n         '0.09': 1,\n         'south': 4,\n         'population': 20,\n         'country': 6,\n         'world': 8,\n         '7.06': 1,\n         'tanzania': 1,\n         '4.5': 1,\n         'tanzanian': 1,\n         'adult': 3,\n         'age': 1,\n         '15–49': 1,\n         '2017.south': 1,\n         '2': 2,\n         'billion': 3,\n         '2010': 4,\n         '30': 3,\n         '4': 1,\n         'case': 22,\n         '12': 1,\n         '250,000': 1,\n         '2.5': 1,\n         'india': 2,\n         '0.3': 1,\n         'somewhat': 2,\n         'high': 12,\n         'find': 6,\n         'canada': 2,\n         '0.1%.in': 1,\n         '1': 10,\n         'united': 12,\n         'states': 10,\n         '14': 2,\n         'realize': 1,\n         'infected.in': 1,\n         '93,385': 1,\n         '64,472': 1,\n         'man': 1,\n         '28,877': 1,\n         'woman': 1,\n         'live': 5,\n         'diagnose': 3,\n         'receive': 1,\n         'care': 1,\n         'uk': 1,\n         '428': 1,\n         '42,739': 1,\n         'nearly': 2,\n         '50': 4,\n         'gay': 1,\n         'bisexual': 1,\n         'small': 3,\n         'segment': 1,\n         'overall': 2,\n         'australia': 2,\n         '27,545': 1,\n         '2016': 1,\n         '63,110': 1,\n         'cases.a': 1,\n         'reconstruction': 1,\n         'genetic': 5,\n         'show': 2,\n         'certainly': 1,\n         'originate': 2,\n         'kinshasa': 1,\n         'capital': 1,\n         'democratic': 1,\n         'republic': 2,\n         'congo': 1,\n         '1920': 2,\n         'recognize': 2,\n         '1981': 2,\n         '1983': 1,\n         'discover': 2,\n         'identify': 7,\n         'cause': 23,\n         '2009': 5,\n         'aid': 1,\n         'antonine': 1,\n         '165': 1,\n         '180': 1,\n         'ad': 3,\n         'galen': 2,\n         'physician': 1,\n         'ancient': 3,\n         'bring': 2,\n         'roman': 9,\n         'empire': 4,\n         'troop': 1,\n         'return': 4,\n         'campaign': 1,\n         'near': 4,\n         'scholar': 1,\n         'suspect': 2,\n         'measle': 1,\n         'claim': 1,\n         'life': 7,\n         'emperor': 1,\n         'lucius': 1,\n         'verus': 1,\n         'die': 3,\n         '169': 1,\n         'co': 2,\n         'regent': 1,\n         'marcus': 1,\n         'aurelius': 1,\n         'antoninu': 2,\n         'family': 3,\n         'associate': 2,\n         'source': 4,\n         'agree': 1,\n         'appear': 4,\n         'siege': 1,\n         'mesopotamian': 1,\n         'city': 9,\n         'seleucia': 1,\n         'winter': 1,\n         '165–166': 1,\n         'ammianus': 1,\n         'marcellinus': 1,\n         'gaul': 1,\n         'legion': 1,\n         'rhine': 1,\n         'eutropius': 1,\n         'state': 9,\n         'accord': 1,\n         'contemporary': 1,\n         'historian': 2,\n         'cassius': 1,\n         'dio': 1,\n         'break': 2,\n         '189': 1,\n         '2,000': 1,\n         'day': 5,\n         'rome': 1,\n         'quarter': 1,\n         'total': 1,\n         'count': 1,\n         '5': 2,\n         'area': 13,\n         'devastate': 1,\n         'army.australian': 1,\n         'sinologist': 1,\n         'rafe': 1,\n         'de': 1,\n         'crespigny': 1,\n         'speculate': 2,\n         'han': 1,\n         'china': 7,\n         '166': 1,\n         'notice': 2,\n         'chinese': 4,\n         'record': 2,\n         'culture': 1,\n         'literature': 2,\n         'severely': 2,\n         'indo': 1,\n         'trade': 4,\n         'relation': 2,\n         'indian': 1,\n         'ocean': 1,\n         'epidemiology': 2,\n         'basic': 6,\n         'reproduction': 6,\n         'reproductive': 2,\n         'call': 3,\n         'rate': 15,\n         'denote': 1,\n         'r': 17,\n         '0': 11,\n         'r_{0': 9,\n         'pronounce': 1,\n         'nought': 1,\n         'zero': 1,\n         'think': 4,\n         'expect': 2,\n         'directly': 1,\n         'generate': 2,\n         'individual': 7,\n         'susceptible': 5,\n         'definition': 2,\n         'immunize': 3,\n         'naturally': 1,\n         'vaccination': 2,\n         'australian': 1,\n         'department': 5,\n         'health': 13,\n         'add': 3,\n         'absence': 1,\n         'deliberate': 1,\n         'intervention': 1,\n         'transmission': 10,\n         'confuse': 1,\n         'effective': 3,\n         'usually': 5,\n         'write': 1,\n         't': 2,\n         'r_{t': 1,\n         'time': 8,\n         'e': 1,\n         'r_{e': 1,\n         'uninfected': 1,\n         'important': 4,\n         'note': 1,\n         'dimensionless': 1,\n         'unit': 2,\n         'time−1': 1,\n         'like': 5,\n         'double': 1,\n         'biological': 6,\n         'constant': 1,\n         'pathogen': 5,\n         'factor': 5,\n         'environmental': 2,\n         'condition': 2,\n         'behaviour': 1,\n         'furthermore': 1,\n         'value': 7,\n         'mathematical': 1,\n         'model': 5,\n         'dependent': 1,\n         'parameter': 1,\n         'give': 8,\n         'sense': 1,\n         'context': 3,\n         'recommend': 2,\n         'obsolete': 1,\n         'compare': 2,\n         'base': 6,\n         'different': 1,\n         'fast': 1,\n         'population.the': 1,\n         'determine': 3,\n         'emerge': 1,\n         'proportion': 3,\n         'eradicate': 1,\n         'commonly': 1,\n         '>': 1,\n         'r_{0}>1': 1,\n         'able': 1,\n         'start': 4,\n         '<': 1,\n         'r_{0}<1': 1,\n         'hard': 2,\n         'control': 7,\n         'simple': 2,\n         'need': 1,\n         'effectively': 1,\n         'mean': 4,\n         'prevent': 4,\n         'sustained': 1,\n         '−': 1,\n         'conversely': 1,\n         'equilibrium': 1,\n         '.the': 1,\n         'duration': 1,\n         'infectivity': 1,\n         'infectiousness': 1,\n         'microorganism': 2,\n         'contact': 6,\n         'bill': 4,\n         'weekly': 3,\n         'statistic': 2,\n         'london': 5,\n         'design': 4,\n         'monitor': 3,\n         'burial': 2,\n         '1592': 1,\n         '1595': 1,\n         'continuously': 1,\n         '1603': 1,\n         'responsibility': 1,\n         'produce': 7,\n         'charter': 1,\n         '1611': 1,\n         'worshipful': 1,\n         'company': 3,\n         'parish': 5,\n         'clerk': 1,\n         'cover': 2,\n         'expand': 1,\n         'grow': 1,\n         'reach': 1,\n         'maximum': 1,\n         'extent': 1,\n         '1636': 1,\n         'divide': 1,\n         'suburban': 1,\n         'cemetery': 1,\n         'outside': 2,\n         'exemption': 1,\n         'extra': 1,\n         'parochial': 1,\n         'place': 3,\n         'wide': 1,\n         'growth': 1,\n         'metropoli': 1,\n         'render': 1,\n         'datum': 4,\n         'incomplete': 1,\n         'production': 3,\n         'go': 1,\n         '1819': 1,\n         'cease': 1,\n         'provide': 2,\n         'survive': 2,\n         'date': 1,\n         '1858': 1,\n         'supersede': 2,\n         'registrar': 1,\n         'general': 6,\n         '1840': 1,\n         'take': 2,\n         '1847': 1,\n         'district': 1,\n         'metropolitan': 1,\n         'board': 1,\n         'work': 3,\n         '1855': 1,\n         'county': 3,\n         '1889': 1,\n         'inner': 1,\n         '1965': 1,\n         'cholera': 8,\n         'intestine': 1,\n         'strain': 8,\n         'bacterium': 1,\n         'vibrio': 2,\n         'cholerae': 2,\n         'symptom': 8,\n         'range': 6,\n         'mild': 1,\n         'severe': 8,\n         'classic': 1,\n         'amount': 1,\n         'watery': 1,\n         'diarrhea': 3,\n         'last': 2,\n         'vomiting': 1,\n         'muscle': 2,\n         'cramp': 1,\n         'lead': 7,\n         'hour': 2,\n         'dehydration': 2,\n         'electrolyte': 1,\n         'imbalance': 1,\n         'result': 7,\n         'sunken': 1,\n         'eye': 1,\n         'cold': 1,\n         'skin': 3,\n         'decrease': 2,\n         'elasticity': 1,\n         'wrinkling': 1,\n         'hand': 3,\n         'foot': 1,\n         'turn': 1,\n         'bluish': 1,\n         'exposure.cholera': 1,\n         'type': 8,\n         'unsafe': 3,\n         'water': 5,\n         'food': 3,\n         'contaminate': 2,\n         'fece': 1,\n         'contain': 2,\n         'bacteria': 3,\n         'undercooked': 1,\n         'seafood': 1,\n         'common': 6,\n         'animal': 4,\n         'risk': 7,\n         'poor': 2,\n         'sanitation': 2,\n         'clean': 2,\n         'drinking': 1,\n         'poverty': 2,\n         'concern': 4,\n         'rise': 2,\n         'sea': 1,\n         'level': 2,\n         'increase': 6,\n         'stool': 1,\n         'test': 5,\n         'rapid': 1,\n         'dipstick': 1,\n         'available': 4,\n         'accurate.prevention': 1,\n         'method': 1,\n         'improve': 2,\n         'access': 2,\n         'vaccine': 7,\n         'mouth': 4,\n         'reasonable': 1,\n         'protection': 1,\n         'month': 3,\n         'benefit': 1,\n         'protect': 2,\n         'e.': 1,\n         'coli': 1,\n         'primary': 2,\n         'treatment': 9,\n         'oral': 3,\n         'rehydration': 1,\n         'therapy': 2,\n         'replacement': 1,\n         'fluid': 6,\n         'slightly': 1,\n         'sweet': 1,\n         'salty': 1,\n         'solution': 4,\n         'rice': 1,\n         'prefer': 1,\n         'zinc': 1,\n         'supplementation': 1,\n         'useful': 1,\n         'child': 4,\n         'intravenous': 1,\n         'ringer': 1,\n         'lactate': 1,\n         'require': 3,\n         'antibiotic': 2,\n         'beneficial': 1,\n         'help': 2,\n         'guide': 1,\n         'choice.cholera': 1,\n         '3–5': 1,\n         '28,800–130,000': 1,\n         'classify': 1,\n         'rare': 2,\n         'developed': 1,\n         'outbreak': 14,\n         'chronically': 1,\n         'certain': 1,\n         'ongoing': 3,\n         'southeast': 1,\n         'description': 1,\n         'early': 8,\n         '5th': 1,\n         'bc': 1,\n         'sanskrit': 1,\n         'england': 1,\n         'john': 1,\n         'snow': 1,\n         '1849': 1,\n         '1854': 1,\n         'significant': 1,\n         'advance': 3,\n         'field': 1,\n         'seven': 1,\n         '200': 1,\n         'coronavirus': 3,\n         '2019': 3,\n         'acute': 2,\n         'respiratory': 3,\n         'syndrome': 4,\n         'sar': 3,\n         'december': 1,\n         'wuhan': 1,\n         'declare': 3,\n         'public': 5,\n         'emergency': 2,\n         'international': 3,\n         'january': 3,\n         '2020': 4,\n         'march': 2,\n         'october': 1,\n         '39.5': 1,\n         'confirm': 2,\n         '1.1': 1,\n         'attribute': 1,\n         'covid-19.common': 1,\n         'fever': 6,\n         'cough': 3,\n         'fatigue': 1,\n         'breathe': 1,\n         'difficulty': 1,\n         'loss': 1,\n         'smell': 1,\n         'complication': 1,\n         'pneumonia': 2,\n         'distress': 1,\n         'incubation': 1,\n         'period': 4,\n         'typically': 4,\n         'candidate': 1,\n         'development': 3,\n         'prove': 2,\n         'safety': 1,\n         'efficacy': 1,\n         'specific': 2,\n         'antiviral': 2,\n         'medication': 2,\n         'symptomatic.recommende': 1,\n         'preventive': 2,\n         'measure': 8,\n         'washing': 1,\n         'wear': 1,\n         'face': 1,\n         'mask': 1,\n         'sneeze': 1,\n         'social': 3,\n         'distancing': 1,\n         'disinfect': 1,\n         'surface': 1,\n         'ventilation': 1,\n         'air': 1,\n         'filtering': 1,\n         'monitoring': 1,\n         'self': 1,\n         'isolation': 1,\n         'expose': 1,\n         'symptomatic': 1,\n         'travel': 1,\n         'restriction': 1,\n         'lockdown': 1,\n         'workplace': 2,\n         'hazard': 1,\n         'facility': 2,\n         'closure': 1,\n         'implement': 2,\n         'testing': 2,\n         'capacity': 3,\n         'trace': 2,\n         'economic': 2,\n         'disruption': 1,\n         'recession': 1,\n         'great': 2,\n         'depression': 1,\n         'extreme': 1,\n         'famine': 1,\n         'hundred': 1,\n         'inflame': 1,\n         'supply': 1,\n         'shortage': 2,\n         'event': 4,\n         'environment': 3,\n         'education': 1,\n         'system': 6,\n         'misinformation': 1,\n         'circulate': 1,\n         'globally': 2,\n         'incident': 1,\n         'xenophobia': 1,\n         'racism': 1,\n         'perceive': 1,\n         'crimson': 1,\n         'contagion': 1,\n         'joint': 1,\n         'exercise': 2,\n         'conduct': 2,\n         'august': 2,\n         'numerous': 2,\n         'national': 4,\n         'local': 3,\n         'private': 1,\n         'organization': 7,\n         'participate': 1,\n         'order': 1,\n         'federal': 2,\n         'government': 4,\n         'respond': 3,\n         'china.the': 1,\n         'simulation': 1,\n         'prior': 1,\n         'involve': 2,\n         'scenario': 1,\n         'tourist': 2,\n         'begin': 1,\n         'chicago': 1,\n         '110': 1,\n         'american': 3,\n         'half': 1,\n         'issue': 4,\n         'conclusion': 1,\n         'outline': 1,\n         'limited': 1,\n         'agency': 3,\n         'lack': 2,\n         'fund': 3,\n         'coordination': 1,\n         'resource': 2,\n         'facilitate': 4,\n         'response': 4,\n         'x': 2,\n         'placeholder': 2,\n         'adopt': 3,\n         'february': 3,\n         'shortlist': 1,\n         'blueprint': 1,\n         'priority': 1,\n         'represent': 1,\n         'hypothetical': 1,\n         'unknown': 2,\n         'future': 1,\n         'ensure': 1,\n         'planning': 1,\n         'sufficiently': 1,\n         'flexible': 3,\n         'adapt': 1,\n         'e.g.': 3,\n         'broad': 2,\n         'manufacturing': 1,\n         'director': 1,\n         'institute': 2,\n         'allergy': 1,\n         'anthony': 1,\n         'fauci': 1,\n         'concept': 1,\n         'encourage': 1,\n         'project': 1,\n         'focus': 1,\n         'research': 5,\n         'effort': 3,\n         'entire': 1,\n         'class': 1,\n         'flavivirus': 1,\n         'instead': 2,\n         'zika': 2,\n         'capability': 1,\n         'unforeseen': 1,\n         'expert': 1,\n         'advisor': 1,\n         'meet': 1,\n         'requirement': 1,\n         'x.': 1,\n         'johns': 3,\n         'hopkins': 3,\n         'center': 7,\n         'security': 2,\n         'abbreviate': 1,\n         'chs': 1,\n         'previously': 2,\n         'upmc': 2,\n         'biosecurity': 2,\n         'civilian': 1,\n         'biodefense': 1,\n         'strategy': 5,\n         'independent': 2,\n         'nonprofit': 1,\n         'bloomberg': 1,\n         'school': 2,\n         'engineering': 1,\n         'consequence': 2,\n         'disaster': 3,\n         'avert': 1,\n         'weapon': 1,\n         'implication': 1,\n         'bioeconomy': 1,\n         'tank': 1,\n         'policy': 2,\n         'recommendation': 1,\n         'un': 1,\n         'weapons': 1,\n         'convention': 1,\n         'acquire': 3,\n         'immune': 8,\n         'deficiency': 1,\n         'spectrum': 1,\n         'follow': 4,\n         'initial': 1,\n         'person': 3,\n         'experience': 1,\n         'brief': 1,\n         'illness': 7,\n         'prolonged': 1,\n         'interfere': 1,\n         'develop': 3,\n         'opportunistic': 1,\n         'tumor': 1,\n         'normal': 2,\n         'function': 2,\n         'late': 1,\n         'refer': 2,\n         'stage': 1,\n         'unintended': 1,\n         'weight': 1,\n         'loss.hiv': 1,\n         'primarily': 1,\n         'unprotected': 1,\n         'sex': 5,\n         'anal': 1,\n         'blood': 7,\n         'transfusion': 1,\n         'hypodermic': 1,\n         'needle': 3,\n         'mother': 2,\n         'pregnancy': 1,\n         'delivery': 1,\n         'breastfeed': 1,\n         'bodily': 2,\n         'saliva': 1,\n         'sweat': 1,\n         'tear': 1,\n         'transmit': 6,\n         'member': 1,\n         'group': 5,\n         'retroviruses.method': 1,\n         'prevention': 7,\n         'safe': 1,\n         'exchange': 1,\n         'program': 3,\n         'treat': 1,\n         'pre-': 1,\n         'post': 1,\n         'exposure': 3,\n         'prophylaxis': 1,\n         'baby': 1,\n         'antiretroviral': 2,\n         'cure': 1,\n         'slow': 1,\n         'course': 1,\n         'expectancy': 1,\n         'soon': 1,\n         'diagnosis': 2,\n         'average': 1,\n         'survival': 2,\n         '11': 2,\n         'years.in': 1,\n         '20.6': 1,\n         '1980s': 2,\n         '32': 1,\n         'present': 1,\n         'actively': 1,\n         'spreading.hiv': 1,\n         'jump': 1,\n         'primate': 1,\n         'west': 1,\n         'mid': 3,\n         '20th': 1,\n         'cdc': 4,\n         'decade.hiv/aids': 1,\n         'impact': 4,\n         'society': 1,\n         'discrimination': 1,\n         'misconception': 1,\n         'belief': 1,\n         'casual': 1,\n         'non': 2,\n         'sexual': 3,\n         'subject': 1,\n         'controversy': 1,\n         'religion': 1,\n         'catholic': 1,\n         'church': 1,\n         'position': 1,\n         'support': 1,\n         'condom': 2,\n         'attract': 1,\n         'medical': 5,\n         'political': 1,\n         'attention': 1,\n         'scale': 4,\n         'funding': 1,\n         '1985': 1,\n         '1989': 2,\n         'indigenous': 1,\n         '146': 1,\n         'heroin': 1,\n         'user': 3,\n         'yunnan': 1,\n         'province': 2,\n         'southwest': 1,\n         'border.yunnan': 1,\n         'sharing': 2,\n         'drug': 3,\n         'burmese': 1,\n         'border': 2,\n         '1993': 1,\n         'problem': 1,\n         'mobile': 1,\n         'truck': 1,\n         'driver': 1,\n         'construction': 1,\n         'migrant': 1,\n         'worker': 4,\n         'traveler': 1,\n         '1995': 1,\n         'sichuan': 1,\n         'xinjiang': 1,\n         '1998': 1,\n         'china.low': 1,\n         'awareness': 1,\n         'major': 2,\n         'culprit': 1,\n         'foreign': 1,\n         'educate': 1,\n         'knowledgeable': 1,\n         'recently': 1,\n         'client': 1,\n         'donor': 1,\n         'management': 3,\n         'reduce': 1,\n         'pandemics.it': 1,\n         'mistake': 1,\n         'preparedness': 1,\n         'mitigation': 1,\n         'largely': 1,\n         'seek': 1,\n         'mitigate': 1,\n         'magnitude': 1,\n         'negative': 1,\n         'effect': 3,\n         'overlap': 1,\n         'respect': 1,\n         'severity': 12,\n         'assessment': 4,\n         'framework': 3,\n         'psaf': 3,\n         'evaluation': 1,\n         'quadrant': 2,\n         'evaluate': 1,\n         'transmissibility': 3,\n         'clinical': 3,\n         'combine': 1,\n         'estimate.clinical': 1,\n         'calculate': 2,\n         'fatality': 5,\n         'hospitalization': 2,\n         'viral': 21,\n         'secondary': 2,\n         'household': 1,\n         'attack': 5,\n         'community': 2,\n         'outpatient': 1,\n         'visit': 1,\n         'illness.the': 1,\n         '2007': 3,\n         'linear': 2,\n         'index': 3,\n         'psi': 4,\n         'assume': 1,\n         'cfr': 1,\n         'assess': 1,\n         'evolution': 2,\n         'official': 4,\n         'tool': 2,\n         '2014': 2,\n         'list': 2,\n         'propose': 1,\n         'classification': 2,\n         'accompany': 1,\n         'set': 1,\n         'guideline': 1,\n         'intend': 2,\n         'communicate': 1,\n         'appropriate': 1,\n         'action': 1,\n         'potential': 1,\n         'situation': 1,\n         'release': 1,\n         'service': 1,\n         'hhs': 1,\n         'resemble': 1,\n         'saffir': 1,\n         'simpson': 1,\n         'hurricane': 1,\n         'scheme': 2,\n         'replace': 1,\n         'cyprian': 2,\n         'afflict': 1,\n         '249': 1,\n         '262': 1,\n         'manpower': 1,\n         'army': 1,\n         'weaken': 1,\n         'crisis': 1,\n         ...})"
     },
     "execution_count": 19,
     "metadata": {},
     "output_type": "execute_result"
    }
   ],
   "source": [
    "from collections import Counter\n",
    "\n",
    "tokens = list(chain(*[i[\"tokenized_text\"] for i in data]))\n",
    "Counter(tokens)"
   ],
   "metadata": {
    "collapsed": false,
    "pycharm": {
     "name": "#%%\n"
    }
   }
  },
  {
   "cell_type": "code",
   "execution_count": 24,
   "outputs": [
    {
     "data": {
      "text/plain": "0.12280701754385964"
     },
     "execution_count": 24,
     "metadata": {},
     "output_type": "execute_result"
    }
   ],
   "source": [
    "Counter(data[0][\"tokenized_text\"])[\"pandemic\"] / Counter(tokens)[\"pandemic\"]"
   ],
   "metadata": {
    "collapsed": false,
    "pycharm": {
     "name": "#%%\n"
    }
   }
  },
  {
   "cell_type": "code",
   "execution_count": 30,
   "outputs": [
    {
     "data": {
      "text/plain": "17"
     },
     "execution_count": 30,
     "metadata": {},
     "output_type": "execute_result"
    }
   ],
   "source": [
    "Counter(list(chain(*[set(i[\"tokenized_text\"]) for i in data])))[\"pandemic\"]"
   ],
   "metadata": {
    "collapsed": false,
    "pycharm": {
     "name": "#%%\n"
    }
   }
  },
  {
   "cell_type": "code",
   "execution_count": 34,
   "outputs": [
    {
     "data": {
      "text/plain": "26"
     },
     "execution_count": 34,
     "metadata": {},
     "output_type": "execute_result"
    }
   ],
   "source": [
    "len(data)"
   ],
   "metadata": {
    "collapsed": false,
    "pycharm": {
     "name": "#%%\n"
    }
   }
  },
  {
   "cell_type": "code",
   "execution_count": 35,
   "outputs": [
    {
     "data": {
      "text/plain": "1.5294117647058822"
     },
     "execution_count": 35,
     "metadata": {},
     "output_type": "execute_result"
    }
   ],
   "source": [
    "len(data) / Counter(list(chain(*[set(i[\"tokenized_text\"]) for i in data])))[\"pandemic\"]"
   ],
   "metadata": {
    "collapsed": false,
    "pycharm": {
     "name": "#%%\n"
    }
   }
  },
  {
   "cell_type": "code",
   "execution_count": 46,
   "outputs": [],
   "source": [
    "def compute_tfids(document, corpus_vocabulary, documents):\n",
    "  tf_idf_vector = []\n",
    "  for token in sorted(set(corpus_vocabulary.keys())):\n",
    "    tf = Counter(document[\"tokenized_text\"])[token] / Counter(corpus_vocabulary)[token]\n",
    "    idf = len(documents) / Counter(list(chain(*[set(i[\"tokenized_text\"]) for i in documents])))[token]\n",
    "    tf_idf = tf * idf\n",
    "    tf_idf_vector.append(tf_idf)\n",
    "\n",
    "  return tf_idf_vector"
   ],
   "metadata": {
    "collapsed": false,
    "pycharm": {
     "name": "#%%\n"
    }
   }
  },
  {
   "cell_type": "code",
   "execution_count": 47,
   "outputs": [
    {
     "data": {
      "text/plain": "[0.0,\n 0.0,\n 0.0,\n 0.0,\n 0.0,\n 0.0,\n 0.0,\n 0.0,\n 0.0,\n 0.0,\n 0.0,\n 0.0,\n 0.0,\n 0.0,\n 0.0,\n 0.0,\n 0.0,\n 0.0,\n 0.0,\n 0.0,\n 0.0,\n 0.0,\n 0.0,\n 26.0,\n 0.0,\n 0.0,\n 0.0,\n 0.0,\n 0.0,\n 0.0,\n 0.0,\n 0.0,\n 0.0,\n 0.0,\n 0.0,\n 0.0,\n 0.0,\n 0.0,\n 0.0,\n 0.0,\n 0.0,\n 0.0,\n 0.0,\n 0.0,\n 0.0,\n 0.0,\n 0.0,\n 0.0,\n 0.0,\n 0.0,\n 0.0,\n 2.6,\n 0.0,\n 0.0,\n 0.0,\n 0.0,\n 0.0,\n 0.0,\n 0.0,\n 0.0,\n 0.0,\n 0.0,\n 0.0,\n 0.0,\n 0.0,\n 0.0,\n 0.0,\n 0.0,\n 0.0,\n 0.0,\n 0.0,\n 0.0,\n 0.0,\n 0.0,\n 0.0,\n 0.0,\n 0.0,\n 0.0,\n 0.0,\n 0.0,\n 0.0,\n 0.0,\n 0.0,\n 0.0,\n 0.0,\n 0.0,\n 0.0,\n 0.0,\n 0.0,\n 0.0,\n 0.0,\n 0.0,\n 0.0,\n 0.0,\n 0.0,\n 0.0,\n 0.0,\n 0.0,\n 0.0,\n 0.0,\n 0.0,\n 0.0,\n 0.0,\n 0.0,\n 0.0,\n 0.0,\n 0.0,\n 0.0,\n 0.0,\n 0.0,\n 0.0,\n 0.0,\n 0.0,\n 0.0,\n 0.0,\n 0.0,\n 0.0,\n 0.0,\n 0.0,\n 0.0,\n 0.0,\n 0.0,\n 0.0,\n 0.0,\n 26.0,\n 0.0,\n 0.0,\n 0.0,\n 0.0,\n 0.0,\n 0.0,\n 0.0,\n 0.0,\n 0.0,\n 0.0,\n 0.0,\n 0.0,\n 0.0,\n 0.0,\n 0.0,\n 0.0,\n 0.0,\n 0.0,\n 0.0,\n 0.0,\n 0.0,\n 0.0,\n 0.0,\n 0.0,\n 0.0,\n 0.0,\n 0.0,\n 0.0,\n 0.0,\n 0.0,\n 0.0,\n 0.0,\n 0.0,\n 0.0,\n 0.0,\n 0.24761904761904763,\n 0.0,\n 0.0,\n 0.0,\n 0.0,\n 0.0,\n 0.0,\n 0.0,\n 0.0,\n 0.0,\n 0.0,\n 0.2549019607843137,\n 0.0,\n 0.0,\n 0.0,\n 0.0,\n 0.0,\n 0.0,\n 0.0,\n 0.0,\n 0.0,\n 0.0,\n 0.0,\n 0.0,\n 0.0,\n 0.0,\n 0.0,\n 0.0,\n 0.0,\n 0.0,\n 0.0,\n 0.0,\n 0.0,\n 0.0,\n 0.0,\n 0.0,\n 0.0,\n 0.0,\n 0.0,\n 0.0,\n 0.0,\n 0.0,\n 0.0,\n 0.0,\n 0.0,\n 0.0,\n 0.0,\n 0.0,\n 0.0,\n 0.0,\n 0.0,\n 0.0,\n 0.0,\n 0.0,\n 0.0,\n 0.0,\n 0.0,\n 0.0,\n 0.0,\n 0.0,\n 0.0,\n 0.0,\n 0.0,\n 0.0,\n 0.0,\n 0.0,\n 0.0,\n 0.0,\n 0.0,\n 0.0,\n 0.0,\n 0.0,\n 0.0,\n 0.0,\n 0.0,\n 0.0,\n 0.0,\n 0.0,\n 0.0,\n 0.0,\n 0.0,\n 0.0,\n 0.0,\n 0.0,\n 0.0,\n 0.0,\n 0.0,\n 0.0,\n 0.0,\n 0.0,\n 0.0,\n 0.0,\n 0.0,\n 0.0,\n 0.0,\n 0.0,\n 0.0,\n 0.0,\n 0.0,\n 0.0,\n 0.0,\n 0.0,\n 0.0,\n 26.0,\n 0.0,\n 0.0,\n 0.0,\n 0.0,\n 0.0,\n 0.0,\n 0.0,\n 0.0,\n 0.0,\n 0.0,\n 0.0,\n 0.0,\n 0.0,\n 0.0,\n 0.0,\n 0.0,\n 0.0,\n 0.0,\n 0.0,\n 0.0,\n 0.0,\n 0.0,\n 0.0,\n 0.0,\n 0.0,\n 0.0,\n 0.0,\n 0.0,\n 0.0,\n 0.0,\n 0.0,\n 0.0,\n 0.0,\n 0.0,\n 0.0,\n 0.0,\n 0.0,\n 0.0,\n 0.0,\n 0.0,\n 0.0,\n 0.0,\n 0.0,\n 0.0,\n 0.0,\n 0.0,\n 0.0,\n 0.0,\n 0.0,\n 0.0,\n 0.0,\n 0.0,\n 0.0,\n 0.0,\n 0.0,\n 0.0,\n 0.0,\n 0.0,\n 1.04,\n 0.0,\n 0.0,\n 0.0,\n 0.0,\n 0.0,\n 0.0,\n 0.0,\n 0.0,\n 0.0,\n 0.0,\n 0.0,\n 0.0,\n 0.0,\n 0.0,\n 0.0,\n 0.0,\n 0.0,\n 0.0,\n 0.0,\n 0.0,\n 0.0,\n 0.0,\n 0.0,\n 0.0,\n 0.0,\n 0.0,\n 0.0,\n 0.0,\n 0.0,\n 0.0,\n 0.0,\n 0.0,\n 0.0,\n 0.0,\n 0.0,\n 0.0,\n 0.0,\n 0.0,\n 0.0,\n 0.0,\n 0.0,\n 0.0,\n 0.0,\n 0.0,\n 0.0,\n 0.0,\n 0.0,\n 0.0,\n 0.0,\n 0.0,\n 0.0,\n 0.0,\n 0.0,\n 0.0,\n 0.0,\n 0.0,\n 0.0,\n 0.0,\n 0.0,\n 0.0,\n 0.0,\n 0.0,\n 0.0,\n 0.0,\n 0.0,\n 0.0,\n 0.0,\n 0.0,\n 0.0,\n 0.0,\n 0.0,\n 0.0,\n 0.0,\n 0.0,\n 0.0,\n 0.0,\n 0.0,\n 0.0,\n 0.0,\n 0.0,\n 0.0,\n 0.0,\n 0.0,\n 0.0,\n 0.0,\n 0.0,\n 26.0,\n 0.0,\n 0.0,\n 0.0,\n 0.0,\n 0.0,\n 0.0,\n 0.0,\n 0.0,\n 0.0,\n 0.0,\n 0.0,\n 0.0,\n 0.0,\n 0.0,\n 0.0,\n 0.0,\n 0.0,\n 0.0,\n 0.0,\n 0.0,\n 2.8888888888888884,\n 0.0,\n 0.619047619047619,\n 0.0,\n 0.0,\n 0.0,\n 0.0,\n 0.0,\n 0.0,\n 0.0,\n 0.0,\n 0.0,\n 0.0,\n 0.0,\n 0.0,\n 0.0,\n 6.5,\n 0.0,\n 0.0,\n 0.0,\n 0.0,\n 0.0,\n 0.0,\n 0.0,\n 0.0,\n 0.0,\n 0.0,\n 0.0,\n 0.11255411255411256,\n 0.0,\n 0.0,\n 0.0,\n 0.0,\n 0.0,\n 0.0,\n 0.0,\n 0.0,\n 0.0,\n 0.0,\n 0.0,\n 0.0,\n 26.0,\n 0.0,\n 0.0,\n 0.0,\n 0.0,\n 0.0,\n 0.0,\n 0.0,\n 0.0,\n 0.0,\n 0.0,\n 0.0,\n 0.0,\n 0.0,\n 0.0,\n 0.0,\n 0.0,\n 0.0,\n 0.0,\n 0.0,\n 0.0,\n 0.0,\n 0.0,\n 0.0,\n 0.0,\n 0.0,\n 0.0,\n 0.0,\n 0.0,\n 0.0,\n 0.0,\n 0.0,\n 0.0,\n 0.0,\n 0.16666666666666666,\n 0.0,\n 0.0,\n 0.0,\n 0.0,\n 0.0,\n 0.0,\n 0.0,\n 0.0,\n 0.0,\n 0.0,\n 0.0,\n 0.0,\n 0.0,\n 0.0,\n 0.0,\n 0.0,\n 0.0,\n 0.0,\n 0.0,\n 0.0,\n 0.0,\n 0.0,\n 0.0,\n 0.0,\n 0.0,\n 0.0,\n 0.0,\n 0.0,\n 0.0,\n 0.0,\n 0.0,\n 0.0,\n 0.0,\n 0.0,\n 0.0,\n 0.0,\n 0.0,\n 0.0,\n 0.0,\n 0.0,\n 0.0,\n 0.0,\n 0.0,\n 0.0,\n 0.0,\n 0.0,\n 0.0,\n 0.0,\n 0.0,\n 0.0,\n 0.0,\n 0.0,\n 0.0,\n 4.333333333333333,\n 0.0,\n 0.0,\n 0.0,\n 0.0,\n 0.0,\n 0.0,\n 0.0,\n 0.0,\n 0.2363636363636364,\n 0.0,\n 0.0,\n 0.0,\n 0.0,\n 0.0,\n 0.0,\n 0.1925925925925926,\n 0.0,\n 0.0,\n 0.0,\n 0.0,\n 0.0,\n 0.0,\n 0.0,\n 0.0,\n 0.0,\n 0.0,\n 0.0,\n 0.0,\n 0.0,\n 0.0,\n 0.0,\n 0.0,\n 26.0,\n 0.0,\n 0.0,\n 0.0,\n 0.0,\n 0.0,\n 0.0,\n 0.0,\n 0.0,\n 0.0,\n 0.0,\n 0.0,\n 0.0,\n 0.0,\n 0.0,\n 0.0,\n 0.0,\n 0.0,\n 0.0,\n 0.0,\n 0.0,\n 0.0,\n 0.0,\n 0.0,\n 0.0,\n 0.0,\n 0.0,\n 0.0,\n 0.0,\n 26.0,\n 0.0,\n 0.0,\n 0.0,\n 0.0,\n 0.0,\n 0.0,\n 0.0,\n 0.0,\n 0.0,\n 0.0,\n 0.0,\n 0.0,\n 0.0,\n 0.0,\n 0.0,\n 0.0,\n 0.0,\n 0.3611111111111111,\n 0.0,\n 0.0,\n 0.0,\n 0.0,\n 0.0,\n 0.0,\n 0.0,\n 0.0,\n 0.0,\n 0.0,\n 0.0,\n 0.0,\n 0.0,\n 0.0,\n 0.0,\n 0.0,\n 0.0,\n 0.0,\n 0.0,\n 0.0,\n 0.0,\n 0.0,\n 0.0,\n 0.0,\n 0.0,\n 0.0,\n 2.8888888888888884,\n 0.0,\n 0.0,\n 0.0,\n 0.0,\n 0.0,\n 0.0,\n 0.0,\n 0.0,\n 26.0,\n 0.0,\n 0.0,\n 0.0,\n 0.0,\n 0.0,\n 0.0,\n 0.0,\n 26.0,\n 0.0,\n 0.0,\n 0.0,\n 0.0,\n 0.0,\n 0.0,\n 0.0,\n 0.0,\n 0.0,\n 0.0,\n 0.0,\n 0.0,\n 0.0,\n 0.0,\n 0.0,\n 0.0,\n 0.0,\n 0.0,\n 0.0,\n 0.0,\n 0.0,\n 0.0,\n 0.0,\n 0.0,\n 0.0,\n 0.0,\n 0.0,\n 0.0,\n 0.0,\n 0.0,\n 0.0,\n 0.0,\n 0.0,\n 0.0,\n 0.0,\n 4.333333333333333,\n 0.0,\n 0.0,\n 0.13541666666666666,\n 0.0,\n 0.0,\n 0.0,\n 0.0,\n 0.0,\n 0.0,\n 0.0,\n 0.0,\n 0.0,\n 0.0,\n 0.11255411255411256,\n 0.0,\n 0.0,\n 0.0,\n 0.0,\n 0.0,\n 0.0,\n 0.0,\n 0.0,\n 0.0,\n 0.0,\n 0.0,\n 0.0,\n 0.0,\n 0.0,\n 0.0,\n 0.0,\n 0.0,\n 0.0,\n 0.0,\n 0.0,\n 0.0,\n 0.0,\n 0.0,\n 0.0,\n 0.0,\n 0.0,\n 0.0,\n 0.0,\n 0.0,\n 0.0,\n 0.0,\n 0.0,\n 0.0,\n 0.0,\n 0.0,\n 0.0,\n 0.0,\n 0.17391304347826086,\n 0.0,\n 0.0,\n 0.0,\n 0.0,\n 0.0,\n 0.0,\n 0.0,\n 0.0,\n 0.0,\n 0.0,\n 0.0,\n 0.8666666666666667,\n 0.0,\n 0.0,\n 0.0,\n 0.5416666666666666,\n 0.0,\n 0.0,\n 0.0,\n 0.2,\n 0.0,\n 0.0,\n 0.0,\n 0.0,\n 0.0,\n 0.0,\n 0.0,\n 26.0,\n 0.0,\n 0.0,\n 0.0,\n 0.0,\n 0.0,\n 0.0,\n 0.0,\n 0.0,\n 0.0,\n 0.0,\n 0.0,\n 0.0,\n 0.0,\n 0.0,\n 0.0,\n 0.0,\n 0.0,\n 0.0,\n 0.0,\n 0.0,\n 0.0,\n 0.0,\n 0.0,\n 0.0,\n 0.0,\n 1.3,\n 0.0,\n 0.0,\n 0.0,\n 0.18571428571428572,\n 0.0,\n 0.0,\n 0.0,\n 0.0,\n 0.0,\n 0.5714285714285715,\n 0.0,\n 0.0,\n 0.0,\n 2.8888888888888884,\n 0.0,\n 0.0,\n 0.0,\n 0.0,\n 0.0,\n 0.0,\n 0.0,\n 0.0,\n 0.0,\n 0.0,\n 0.0,\n 0.0,\n 0.0,\n 0.0,\n 0.0,\n 0.0,\n 0.0,\n 0.0,\n 0.0,\n 0.0,\n 0.0,\n 0.0,\n 0.0,\n 0.0,\n 0.0,\n 0.0,\n 0.0,\n 0.0,\n 0.0,\n 0.0,\n 0.0,\n 0.0,\n 0.0,\n 0.0,\n 0.0,\n 0.0,\n 0.0,\n 0.0,\n 0.0,\n 0.0,\n 0.0,\n 0.0,\n 0.0,\n 0.0,\n 0.0,\n 0.0,\n 0.0,\n 0.0,\n 0.0,\n 0.0,\n 0.0,\n 0.0,\n 0.0,\n 0.0,\n 0.0,\n 0.0,\n 0.0,\n 0.0,\n 0.0,\n 0.0,\n 0.0,\n 0.0,\n 0.0,\n 0.0,\n 0.0,\n 0.0,\n 0.0,\n 0.0,\n 0.0,\n 0.0,\n 0.0,\n 0.1,\n 0.0,\n 0.0,\n 0.0,\n 0.0,\n 0.0,\n 0.0,\n 0.0,\n 0.0,\n 0.0,\n 0.0,\n 0.0,\n 0.0,\n 0.0,\n 0.0,\n 0.0,\n 0.0,\n 0.0,\n 0.0,\n 0.0,\n 0.0,\n 0.0,\n 0.0,\n 0.0,\n 0.0,\n 2.8888888888888884,\n 0.0,\n 0.0,\n 0.0,\n 0.0,\n 0.0,\n 0.0,\n 0.0,\n 0.0,\n 0.0,\n 0.0,\n 0.0,\n 0.0,\n 0.0,\n 0.0,\n 0.0,\n 0.0,\n 0.0,\n 0.0,\n 0.0,\n 0.0,\n 0.0,\n 0.0,\n 0.0,\n 0.0,\n 0.0,\n 0.0,\n 0.0,\n 0.0,\n 0.0,\n 1.7333333333333334,\n 0.0,\n 0.0,\n 0.0,\n 0.0,\n 1.0833333333333333,\n 0.0,\n 0.0,\n 0.0,\n 0.0,\n 0.0,\n 0.0,\n 0.0,\n 0.0,\n 0.0,\n 0.0,\n 0.0,\n 0.0,\n 0.0,\n 0.0,\n 0.0,\n 0.0,\n 0.0,\n 0.0,\n 0.0,\n 0.0,\n 0.0,\n 0.0,\n 0.0,\n 0.0,\n 0.0,\n 0.0,\n 0.0,\n 0.0,\n ...]"
     },
     "execution_count": 47,
     "metadata": {},
     "output_type": "execute_result"
    }
   ],
   "source": [
    "compute_tfids(data[0], Counter(tokens), data)"
   ],
   "metadata": {
    "collapsed": false,
    "pycharm": {
     "name": "#%%\n"
    }
   }
  },
  {
   "cell_type": "code",
   "execution_count": 48,
   "outputs": [],
   "source": [
    "corpus = Counter(tokens)"
   ],
   "metadata": {
    "collapsed": false,
    "pycharm": {
     "name": "#%%\n"
    }
   }
  },
  {
   "cell_type": "code",
   "execution_count": 49,
   "outputs": [],
   "source": [
    "tf_idf_documents = [dict(document, **{'tf_idf': compute_tfids(document, corpus, data)}) for document in data]"
   ],
   "metadata": {
    "collapsed": false,
    "pycharm": {
     "name": "#%%\n"
    }
   }
  },
  {
   "cell_type": "code",
   "execution_count": 50,
   "outputs": [
    {
     "data": {
      "text/plain": "[0.0,\n 0.0,\n 0.0,\n 0.0,\n 0.0,\n 0.0,\n 0.0,\n 0.0,\n 0.0,\n 0.0,\n 0.0,\n 0.0,\n 0.0,\n 0.0,\n 0.0,\n 0.0,\n 0.0,\n 0.0,\n 0.0,\n 0.0,\n 0.0,\n 0.0,\n 0.0,\n 26.0,\n 0.0,\n 0.0,\n 0.0,\n 0.0,\n 0.0,\n 0.0,\n 0.0,\n 0.0,\n 0.0,\n 0.0,\n 0.0,\n 0.0,\n 0.0,\n 0.0,\n 0.0,\n 0.0,\n 0.0,\n 0.0,\n 0.0,\n 0.0,\n 0.0,\n 0.0,\n 0.0,\n 0.0,\n 0.0,\n 0.0,\n 0.0,\n 2.6,\n 0.0,\n 0.0,\n 0.0,\n 0.0,\n 0.0,\n 0.0,\n 0.0,\n 0.0,\n 0.0,\n 0.0,\n 0.0,\n 0.0,\n 0.0,\n 0.0,\n 0.0,\n 0.0,\n 0.0,\n 0.0,\n 0.0,\n 0.0,\n 0.0,\n 0.0,\n 0.0,\n 0.0,\n 0.0,\n 0.0,\n 0.0,\n 0.0,\n 0.0,\n 0.0,\n 0.0,\n 0.0,\n 0.0,\n 0.0,\n 0.0,\n 0.0,\n 0.0,\n 0.0,\n 0.0,\n 0.0,\n 0.0,\n 0.0,\n 0.0,\n 0.0,\n 0.0,\n 0.0,\n 0.0,\n 0.0]"
     },
     "execution_count": 50,
     "metadata": {},
     "output_type": "execute_result"
    }
   ],
   "source": [
    "tf_idf_documents[0][\"tf_idf\"][:100]"
   ],
   "metadata": {
    "collapsed": false,
    "pycharm": {
     "name": "#%%\n"
    }
   }
  },
  {
   "cell_type": "code",
   "execution_count": 52,
   "outputs": [],
   "source": [
    "def tokenizer(string):\n",
    "  lowercased = string.lower()\n",
    "  lowercased = re.sub('(\\n|\\\\\\\\displaystyle)', '', lowercased)\n",
    "  doc = nlp(lowercased)\n",
    "  lemmas = []\n",
    "  for token in doc:\n",
    "    if not token.is_stop and not token.is_punct and not token.is_space:\n",
    "      lemmas.append(token.lemma_)\n",
    "  return lemmas"
   ],
   "metadata": {
    "collapsed": false,
    "pycharm": {
     "name": "#%%\n"
    }
   }
  },
  {
   "cell_type": "code",
   "execution_count": 57,
   "outputs": [
    {
     "data": {
      "text/plain": "0.012649148633172385"
     },
     "execution_count": 57,
     "metadata": {},
     "output_type": "execute_result"
    }
   ],
   "source": [
    "import numpy as np\n",
    "from numpy.linalg import norm\n",
    "\n",
    "query_text = \"When did the Spanish flu happen?\"\n",
    "query_text_token = tokenizer(query_text)\n",
    "query_dict = {\"tokenized_text\": query_text_token}\n",
    "tf_idf_query = compute_tfids(query_dict, corpus, data)\n",
    "tf_idf_query_vector = np.array(tf_idf_query)\n",
    "tf_idf_document_vector = np.array(tf_idf_documents[0][\"tf_idf\"])\n",
    "cosine_similarity = np.dot(tf_idf_query_vector, tf_idf_document_vector) / (norm(tf_idf_query_vector) * norm(tf_idf_document_vector))\n",
    "cosine_similarity"
   ],
   "metadata": {
    "collapsed": false,
    "pycharm": {
     "name": "#%%\n"
    }
   }
  },
  {
   "cell_type": "code",
   "execution_count": 72,
   "outputs": [],
   "source": [
    "import operator\n",
    "\n",
    "def cosine_similarity(query, documents):\n",
    "  query_token = tokenizer(query)\n",
    "  query_dict = {\"tokenized_text\": query_token}\n",
    "  tf_idf_query = compute_tfids(query_dict, corpus, data)\n",
    "  tf_idf_query_vector = np.array(tf_idf_query)\n",
    "  cosine_similarities = []\n",
    "  for document in documents:\n",
    "    tf_idf_document_vector = np.array(document[\"tf_idf\"])\n",
    "    cosine_similarity = np.dot(tf_idf_query_vector, tf_idf_document_vector) / (norm(tf_idf_query_vector) * norm(tf_idf_document_vector))\n",
    "    cosine_similarities.append({'title': document[\"title\"], 'cosine_similarity': cosine_similarity})\n",
    "\n",
    "  return sorted(cosine_similarities, key=lambda i: i[\"cosine_similarity\"], reverse=True)"
   ],
   "metadata": {
    "collapsed": false,
    "pycharm": {
     "name": "#%%\n"
    }
   }
  },
  {
   "cell_type": "code",
   "execution_count": 73,
   "outputs": [
    {
     "data": {
      "text/plain": "[{'title': 'Spanish flu', 'cosine_similarity': 0.02858469708927138},\n {'title': 'Swine influenza', 'cosine_similarity': 0.012855228526745734},\n {'title': 'Pandemic', 'cosine_similarity': 0.012649148633172385},\n {'title': 'Unified Victim Identification System',\n  'cosine_similarity': 0.0004685996984836988},\n {'title': 'Epidemiology of HIV/AIDS', 'cosine_similarity': 0.0},\n {'title': 'Antonine Plague', 'cosine_similarity': 0.0},\n {'title': 'Basic reproduction number', 'cosine_similarity': 0.0},\n {'title': 'Bills of mortality', 'cosine_similarity': 0.0},\n {'title': 'Cholera', 'cosine_similarity': 0.0},\n {'title': 'COVID-19 pandemic', 'cosine_similarity': 0.0},\n {'title': 'Crimson Contagion', 'cosine_similarity': 0.0},\n {'title': 'Disease X', 'cosine_similarity': 0.0},\n {'title': 'Event 201', 'cosine_similarity': 0.0},\n {'title': 'HIV/AIDS', 'cosine_similarity': 0.0},\n {'title': 'HIV/AIDS in Yunnan', 'cosine_similarity': 0.0},\n {'title': 'Pandemic prevention', 'cosine_similarity': 0.0},\n {'title': 'Pandemic Severity Assessment Framework', 'cosine_similarity': 0.0},\n {'title': 'Pandemic severity index', 'cosine_similarity': 0.0},\n {'title': 'Plague of Cyprian', 'cosine_similarity': 0.0},\n {'title': 'PREDICT (USAID)', 'cosine_similarity': 0.0},\n {'title': '1929–1930 psittacosis pandemic', 'cosine_similarity': 0.0},\n {'title': 'Science diplomacy and pandemics', 'cosine_similarity': 0.0},\n {'title': 'Superspreader', 'cosine_similarity': 0.0},\n {'title': 'Targeted immunization strategies', 'cosine_similarity': 0.0},\n {'title': 'Viral load', 'cosine_similarity': 0.0},\n {'title': 'Virus', 'cosine_similarity': 0.0}]"
     },
     "execution_count": 73,
     "metadata": {},
     "output_type": "execute_result"
    }
   ],
   "source": [
    "cosine_similarity(query_text, tf_idf_documents)"
   ],
   "metadata": {
    "collapsed": false,
    "pycharm": {
     "name": "#%%\n"
    }
   }
  },
  {
   "cell_type": "code",
   "execution_count": 74,
   "outputs": [],
   "source": [
    "with open(\"data/vectorized.json\", \"w\") as file:\n",
    "  json.dump(tf_idf_documents, file, indent=2)"
   ],
   "metadata": {
    "collapsed": false,
    "pycharm": {
     "name": "#%%\n"
    }
   }
  },
  {
   "cell_type": "code",
   "execution_count": 75,
   "outputs": [],
   "source": [
    "with open(\"data/vocab.json\", \"w\") as file:\n",
    "  json.dump(corpus, file, indent=2)"
   ],
   "metadata": {
    "collapsed": false,
    "pycharm": {
     "name": "#%%\n"
    }
   }
  }
 ],
 "metadata": {
  "kernelspec": {
   "display_name": "Python 3",
   "language": "python",
   "name": "python3"
  },
  "language_info": {
   "codemirror_mode": {
    "name": "ipython",
    "version": 2
   },
   "file_extension": ".py",
   "mimetype": "text/x-python",
   "name": "python",
   "nbconvert_exporter": "python",
   "pygments_lexer": "ipython2",
   "version": "2.7.6"
  }
 },
 "nbformat": 4,
 "nbformat_minor": 0
}